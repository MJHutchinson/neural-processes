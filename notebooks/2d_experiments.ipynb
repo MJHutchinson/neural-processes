{
 "cells": [
  {
   "cell_type": "code",
   "execution_count": 1,
   "metadata": {},
   "outputs": [],
   "source": [
    "%load_ext autoreload\n",
    "%autoreload 2"
   ]
  },
  {
   "cell_type": "code",
   "execution_count": 2,
   "metadata": {},
   "outputs": [],
   "source": [
    "import numpy as np\n",
    "import sys\n",
    "import torch\n",
    "from torch import eye\n",
    "sys.path.append(\"..\")"
   ]
  },
  {
   "cell_type": "code",
   "execution_count": 3,
   "metadata": {},
   "outputs": [],
   "source": [
    "from src.datagen.kernels import *\n",
    "from src.datagen.gpcurve import *"
   ]
  },
  {
   "cell_type": "code",
   "execution_count": 4,
   "metadata": {},
   "outputs": [],
   "source": [
    "num_total_points = 50\n",
    "space_values = (\n",
    "    torch.linspace(-2, 2, num_total_points)\n",
    "    .unsqueeze(0)\n",
    "    .repeat_interleave(repeats=16, axis=0)\n",
    ").unsqueeze(-1)\n",
    "time_values = (\n",
    "    torch.linspace(-2, 2, num_total_points)\n",
    "    .unsqueeze(0)\n",
    "    .repeat_interleave(repeats=16, axis=0)\n",
    ").unsqueeze(-1)"
   ]
  },
  {
   "cell_type": "code",
   "execution_count": null,
   "metadata": {},
   "outputs": [],
   "source": []
  },
  {
   "cell_type": "code",
   "execution_count": 5,
   "metadata": {},
   "outputs": [],
   "source": [
    "x_dim = 1\n",
    "y_dim = 1\n",
    "MAX_CONTEXT_POINTS = 16\n",
    "random_kernel_parameters = False\n",
    "BATCH_SIZE = 16\n",
    "l1_scale=4\n",
    "l2_scale=1"
   ]
  },
  {
   "cell_type": "code",
   "execution_count": 6,
   "metadata": {},
   "outputs": [],
   "source": [
    "l1, sigma_f = generate_lengthscale_sigma_f(\n",
    "    random_kernel_parameters, \n",
    "    BATCH_SIZE, \n",
    "    y_size=1, \n",
    "    x_size=1, \n",
    "    l1_scale=l1_scale, \n",
    "    sigma_scale=1\n",
    ")"
   ]
  },
  {
   "cell_type": "code",
   "execution_count": 7,
   "metadata": {},
   "outputs": [],
   "source": [
    "l2, sigma_f = generate_lengthscale_sigma_f(\n",
    "    random_kernel_parameters, \n",
    "    BATCH_SIZE, \n",
    "    y_size=1, \n",
    "    x_size=1, \n",
    "    l1_scale=l2_scale, \n",
    "    sigma_scale=1\n",
    ")"
   ]
  },
  {
   "cell_type": "code",
   "execution_count": null,
   "metadata": {},
   "outputs": [],
   "source": []
  },
  {
   "cell_type": "code",
   "execution_count": null,
   "metadata": {},
   "outputs": [],
   "source": []
  },
  {
   "cell_type": "code",
   "execution_count": null,
   "metadata": {},
   "outputs": [],
   "source": []
  },
  {
   "cell_type": "code",
   "execution_count": null,
   "metadata": {},
   "outputs": [],
   "source": []
  },
  {
   "cell_type": "code",
   "execution_count": 8,
   "metadata": {},
   "outputs": [],
   "source": [
    "L1 = torch.cholesky(rbf_kernel(space_values, l1, sigma_f).double()).float()"
   ]
  },
  {
   "cell_type": "code",
   "execution_count": 9,
   "metadata": {},
   "outputs": [],
   "source": [
    "L2 = torch.cholesky(rbf_kernel(time_values, l1, sigma_f).double()).float()"
   ]
  },
  {
   "cell_type": "code",
   "execution_count": 10,
   "metadata": {},
   "outputs": [
    {
     "data": {
      "text/plain": [
       "torch.Size([16, 1, 2500, 1])"
      ]
     },
     "execution_count": 10,
     "metadata": {},
     "output_type": "execute_result"
    }
   ],
   "source": [
    "Tensor(16, 1, num_total_points**2, 1).normal_().shape"
   ]
  },
  {
   "cell_type": "code",
   "execution_count": 11,
   "metadata": {},
   "outputs": [],
   "source": [
    "kron_kernel = torch.zeros(16, 1, 2500, 2500)\n",
    "\n",
    "for i in range(16):\n",
    "    kron_kernel[i][0] = torch.Tensor(np.kron(L1.squeeze(1).numpy()[i,:,:], L2.squeeze(1).numpy()[i,:,:] ))"
   ]
  },
  {
   "cell_type": "code",
   "execution_count": 12,
   "metadata": {},
   "outputs": [],
   "source": [
    "r = kron_kernel @ torch.Tensor(16, 1, num_total_points**2, 1).normal_()"
   ]
  },
  {
   "cell_type": "code",
   "execution_count": 13,
   "metadata": {},
   "outputs": [
    {
     "data": {
      "text/plain": [
       "torch.Size([16, 2500, 1])"
      ]
     },
     "execution_count": 13,
     "metadata": {},
     "output_type": "execute_result"
    }
   ],
   "source": [
    "r.squeeze(1).shape"
   ]
  },
  {
   "cell_type": "code",
   "execution_count": 14,
   "metadata": {},
   "outputs": [
    {
     "data": {
      "text/plain": [
       "torch.Size([16, 2500, 1])"
      ]
     },
     "execution_count": 14,
     "metadata": {},
     "output_type": "execute_result"
    }
   ],
   "source": [
    "(time_values.squeeze(1)\n",
    ".repeat_interleave(repeats=50, axis=1)\n",
    ").shape"
   ]
  },
  {
   "cell_type": "code",
   "execution_count": 15,
   "metadata": {},
   "outputs": [],
   "source": [
    "target_x = torch.zeros(16, 2500, 2)"
   ]
  },
  {
   "cell_type": "code",
   "execution_count": 16,
   "metadata": {},
   "outputs": [],
   "source": [
    "target_x[:,:,0] = (time_values.squeeze(1)\n",
    ".repeat_interleave(repeats=50, axis=1)\n",
    ").squeeze(2)"
   ]
  },
  {
   "cell_type": "code",
   "execution_count": 17,
   "metadata": {},
   "outputs": [],
   "source": [
    "index=50\n",
    "for i in range(50):\n",
    "    target_x[:, index:index+50,1] = space_values[:,i,0].unsqueeze(1)\n",
    "    index += 50"
   ]
  },
  {
   "cell_type": "code",
   "execution_count": 18,
   "metadata": {},
   "outputs": [],
   "source": [
    "datagen = ProductRBFCurvesReader(1, 50, testing=True, random_kernel_parameters=False)"
   ]
  },
  {
   "cell_type": "code",
   "execution_count": null,
   "metadata": {},
   "outputs": [],
   "source": []
  },
  {
   "cell_type": "code",
   "execution_count": 19,
   "metadata": {},
   "outputs": [],
   "source": [
    "import matplotlib.pyplot as plt"
   ]
  },
  {
   "cell_type": "code",
   "execution_count": 20,
   "metadata": {},
   "outputs": [],
   "source": [
    "data_test= datagen.generate_curves()\n",
    "x_context = data_test.query[0][0].contiguous()\n",
    "y_context = data_test.query[0][1].contiguous()\n",
    "x_target = data_test.query[1].contiguous()\n",
    "y_target = data_test.target_y.contiguous()"
   ]
  },
  {
   "cell_type": "code",
   "execution_count": 21,
   "metadata": {},
   "outputs": [
    {
     "data": {
      "text/plain": [
       "tensor([[[-2.0000,  0.0000],\n",
       "         [-2.0000,  0.0000],\n",
       "         [-2.0000,  0.0000],\n",
       "         ...,\n",
       "         [ 2.0000,  1.9184],\n",
       "         [ 2.0000,  1.9184],\n",
       "         [ 2.0000,  1.9184]]])"
      ]
     },
     "execution_count": 21,
     "metadata": {},
     "output_type": "execute_result"
    }
   ],
   "source": [
    "x_target"
   ]
  },
  {
   "cell_type": "code",
   "execution_count": 33,
   "metadata": {},
   "outputs": [
    {
     "data": {
      "text/plain": [
       "torch.Size([16, 50, 50])"
      ]
     },
     "execution_count": 33,
     "metadata": {},
     "output_type": "execute_result"
    }
   ],
   "source": [
    "(time_values.squeeze(1).repeat_interleave(\n",
    " repeats=int(num_total_points), axis=2\n",
    ")\n",
    ").squeeze(2).shape"
   ]
  },
  {
   "cell_type": "code",
   "execution_count": 43,
   "metadata": {},
   "outputs": [],
   "source": [
    "num_target = 50\n",
    "num_total_points = num_target\n",
    "space_values = (\n",
    "    torch.linspace(-2, 2, int(num_total_points))\n",
    "    .unsqueeze(0)\n",
    "    .repeat_interleave(repeats=1, axis=0)\n",
    ").unsqueeze(-1)\n",
    "time_values = (\n",
    "    torch.linspace(-2, 2, int(num_total_points))\n",
    "    .unsqueeze(0)\n",
    "    .repeat_interleave(repeats=1, axis=0)\n",
    ").unsqueeze(-1)"
   ]
  },
  {
   "cell_type": "code",
   "execution_count": 58,
   "metadata": {},
   "outputs": [],
   "source": [
    "x_values = torch.zeros(1, 50 ** 2, 2)\n",
    "index = 0\n",
    "for i in range(50):\n",
    "    x_values[:, index : index + 50, 1] = space_values[\n",
    "        :, i, 0\n",
    "    ].unsqueeze(1)\n",
    "    x_values[:, index : index + 50, 0] = time_values[:, :, 0]\n",
    "    index += 50"
   ]
  },
  {
   "cell_type": "code",
   "execution_count": 59,
   "metadata": {},
   "outputs": [
    {
     "data": {
      "text/plain": [
       "<matplotlib.collections.PathCollection at 0x7efb6090cdd8>"
      ]
     },
     "execution_count": 59,
     "metadata": {},
     "output_type": "execute_result"
    },
    {
     "data": {
      "image/png": "[encoded data removed]",
      "text/plain": [
       "<Figure size 432x288 with 1 Axes>"
      ]
     },
     "metadata": {
      "needs_background": "light"
     },
     "output_type": "display_data"
    }
   ],
   "source": [
    "plt.scatter(x_values[:,:,0], x_values[:,:,1])"
   ]
  },
  {
   "cell_type": "code",
   "execution_count": null,
   "metadata": {},
   "outputs": [],
   "source": []
  },
  {
   "cell_type": "code",
   "execution_count": null,
   "metadata": {},
   "outputs": [],
   "source": []
  },
  {
   "cell_type": "code",
   "execution_count": null,
   "metadata": {},
   "outputs": [],
   "source": []
  },
  {
   "cell_type": "code",
   "execution_count": null,
   "metadata": {},
   "outputs": [],
   "source": []
  },
  {
   "cell_type": "code",
   "execution_count": null,
   "metadata": {},
   "outputs": [],
   "source": []
  }
 ],
 "metadata": {
  "kernelspec": {
   "display_name": "np-torch",
   "language": "python",
   "name": "np-torch"
  },
  "language_info": {
   "codemirror_mode": {
    "name": "ipython",
    "version": 3
   },
   "file_extension": ".py",
   "mimetype": "text/x-python",
   "name": "python",
   "nbconvert_exporter": "python",
   "pygments_lexer": "ipython3",
   "version": "3.6.8"
  }
 },
 "nbformat": 4,
 "nbformat_minor": 2
}
